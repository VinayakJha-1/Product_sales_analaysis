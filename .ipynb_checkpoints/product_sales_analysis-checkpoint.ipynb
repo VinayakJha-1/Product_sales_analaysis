{
 "cells": [
  {
   "cell_type": "code",
   "execution_count": 2,
   "id": "c37230ff",
   "metadata": {},
   "outputs": [],
   "source": [
    "import pandas as pd\n",
    "import os\n",
    "import matplotlib.pyplot as plt \n",
    "%matplotlib inline\n",
    "import seaborn as sns\n",
    "import calendar"
   ]
  },
  {
   "cell_type": "markdown",
   "id": "34926a1a",
   "metadata": {},
   "source": [
    "# Merging Months data "
   ]
  },
  {
   "cell_type": "code",
   "execution_count": 3,
   "id": "b74b4cc5",
   "metadata": {},
   "outputs": [],
   "source": [
    "# Utils \n",
    "# Getting city from address \n",
    "def get_city(address):\n",
    "    return address.split(',')[1]\n",
    "\n",
    "# Getting state from address \n",
    "def get_state(address):\n",
    "    return address.split(',')[2].split(' ')[1]"
   ]
  },
  {
   "cell_type": "code",
   "execution_count": 4,
   "id": "7e02f9ec",
   "metadata": {},
   "outputs": [],
   "source": [
    "path = \"./Sales_Data\"\n",
    "files = [file for file in os.listdir(path) if not file.startswith('.')] # Ignore hidden files\n",
    "\n",
    "all_months_data = pd.DataFrame()\n",
    "\n",
    "for file in files:\n",
    "    current_data = pd.read_csv(path+\"/\"+file)\n",
    "    all_months_data = pd.concat([all_months_data, current_data])\n",
    "    \n",
    "all_months_data.to_csv(\"all_data_copy.csv\", index=False)"
   ]
  },
  {
   "cell_type": "code",
   "execution_count": 5,
   "id": "fa37c347",
   "metadata": {},
   "outputs": [
    {
     "name": "stdout",
     "output_type": "stream",
     "text": [
      "<class 'pandas.core.frame.DataFrame'>\n",
      "RangeIndex: 186850 entries, 0 to 186849\n",
      "Data columns (total 6 columns):\n",
      " #   Column            Non-Null Count   Dtype \n",
      "---  ------            --------------   ----- \n",
      " 0   Order ID          186305 non-null  object\n",
      " 1   Product           186305 non-null  object\n",
      " 2   Quantity Ordered  186305 non-null  object\n",
      " 3   Price Each        186305 non-null  object\n",
      " 4   Order Date        186305 non-null  object\n",
      " 5   Purchase Address  186305 non-null  object\n",
      "dtypes: object(6)\n",
      "memory usage: 8.6+ MB\n"
     ]
    }
   ],
   "source": [
    "# Checking for values \n",
    "# To convert Quantity, Price into int \n",
    "sales_data = pd.read_csv(\"all_data_copy.csv\")\n",
    "sales_data.info()"
   ]
  },
  {
   "cell_type": "code",
   "execution_count": 6,
   "id": "c6c43a86",
   "metadata": {
    "scrolled": true
   },
   "outputs": [
    {
     "data": {
      "text/html": [
       "<div>\n",
       "<style scoped>\n",
       "    .dataframe tbody tr th:only-of-type {\n",
       "        vertical-align: middle;\n",
       "    }\n",
       "\n",
       "    .dataframe tbody tr th {\n",
       "        vertical-align: top;\n",
       "    }\n",
       "\n",
       "    .dataframe thead th {\n",
       "        text-align: right;\n",
       "    }\n",
       "</style>\n",
       "<table border=\"1\" class=\"dataframe\">\n",
       "  <thead>\n",
       "    <tr style=\"text-align: right;\">\n",
       "      <th></th>\n",
       "      <th>Order ID</th>\n",
       "      <th>Product</th>\n",
       "      <th>Quantity Ordered</th>\n",
       "      <th>Price Each</th>\n",
       "      <th>Order Date</th>\n",
       "      <th>Purchase Address</th>\n",
       "    </tr>\n",
       "  </thead>\n",
       "  <tbody>\n",
       "    <tr>\n",
       "      <th>0</th>\n",
       "      <td>176558</td>\n",
       "      <td>USB-C Charging Cable</td>\n",
       "      <td>2</td>\n",
       "      <td>11.95</td>\n",
       "      <td>04/19/19 08:46</td>\n",
       "      <td>917 1st St, Dallas, TX 75001</td>\n",
       "    </tr>\n",
       "    <tr>\n",
       "      <th>1</th>\n",
       "      <td>NaN</td>\n",
       "      <td>NaN</td>\n",
       "      <td>NaN</td>\n",
       "      <td>NaN</td>\n",
       "      <td>NaN</td>\n",
       "      <td>NaN</td>\n",
       "    </tr>\n",
       "    <tr>\n",
       "      <th>2</th>\n",
       "      <td>176559</td>\n",
       "      <td>Bose SoundSport Headphones</td>\n",
       "      <td>1</td>\n",
       "      <td>99.99</td>\n",
       "      <td>04/07/19 22:30</td>\n",
       "      <td>682 Chestnut St, Boston, MA 02215</td>\n",
       "    </tr>\n",
       "    <tr>\n",
       "      <th>3</th>\n",
       "      <td>176560</td>\n",
       "      <td>Google Phone</td>\n",
       "      <td>1</td>\n",
       "      <td>600</td>\n",
       "      <td>04/12/19 14:38</td>\n",
       "      <td>669 Spruce St, Los Angeles, CA 90001</td>\n",
       "    </tr>\n",
       "    <tr>\n",
       "      <th>4</th>\n",
       "      <td>176560</td>\n",
       "      <td>Wired Headphones</td>\n",
       "      <td>1</td>\n",
       "      <td>11.99</td>\n",
       "      <td>04/12/19 14:38</td>\n",
       "      <td>669 Spruce St, Los Angeles, CA 90001</td>\n",
       "    </tr>\n",
       "  </tbody>\n",
       "</table>\n",
       "</div>"
      ],
      "text/plain": [
       "  Order ID                     Product Quantity Ordered Price Each  \\\n",
       "0   176558        USB-C Charging Cable                2      11.95   \n",
       "1      NaN                         NaN              NaN        NaN   \n",
       "2   176559  Bose SoundSport Headphones                1      99.99   \n",
       "3   176560                Google Phone                1        600   \n",
       "4   176560            Wired Headphones                1      11.99   \n",
       "\n",
       "       Order Date                      Purchase Address  \n",
       "0  04/19/19 08:46          917 1st St, Dallas, TX 75001  \n",
       "1             NaN                                   NaN  \n",
       "2  04/07/19 22:30     682 Chestnut St, Boston, MA 02215  \n",
       "3  04/12/19 14:38  669 Spruce St, Los Angeles, CA 90001  \n",
       "4  04/12/19 14:38  669 Spruce St, Los Angeles, CA 90001  "
      ]
     },
     "execution_count": 6,
     "metadata": {},
     "output_type": "execute_result"
    }
   ],
   "source": [
    "sales_data.head()   "
   ]
  },
  {
   "cell_type": "markdown",
   "id": "aa8f16e2",
   "metadata": {},
   "source": [
    "# Cleaning Data"
   ]
  },
  {
   "cell_type": "code",
   "execution_count": 7,
   "id": "58417e2f",
   "metadata": {},
   "outputs": [],
   "source": [
    "# Checking for NAN, very less, remove 40/120000\n",
    "\n",
    "sales_data.isnull().value_counts()\n",
    "sales_data = sales_data.dropna(how = 'all')"
   ]
  },
  {
   "cell_type": "code",
   "execution_count": 8,
   "id": "c2b32339",
   "metadata": {},
   "outputs": [],
   "source": [
    "# Removing \"OR\" in Order Date\n",
    "sales_data = sales_data[sales_data['Order Date'].str[0:2]!='Or']"
   ]
  },
  {
   "cell_type": "code",
   "execution_count": 9,
   "id": "70dc7a14",
   "metadata": {},
   "outputs": [],
   "source": [
    "# Coverting to right variables \n",
    "\n",
    "sales_data[\"Price Each\"] = pd.to_numeric(sales_data[\"Price Each\"])\n",
    "sales_data[\"Quantity Ordered\"] = pd.to_numeric(sales_data[\"Quantity Ordered\"])"
   ]
  },
  {
   "cell_type": "markdown",
   "id": "15a0d66e",
   "metadata": {},
   "source": [
    "# Augmenting Months"
   ]
  },
  {
   "cell_type": "code",
   "execution_count": 10,
   "id": "271756fa",
   "metadata": {},
   "outputs": [],
   "source": [
    "# Get Month for analysis \n",
    "sales_data[\"Month\"] = sales_data[\"Order Date\"].str[0:2]\n",
    "sales_data[\"Month\"]= sales_data[\"Month\"].astype('int32')\n",
    "sales_data[\"Order Date\"] = pd.to_datetime(sales_data[\"Order Date\"])"
   ]
  },
  {
   "cell_type": "code",
   "execution_count": 11,
   "id": "75ae5930",
   "metadata": {},
   "outputs": [],
   "source": [
    "# Get Area for analysis \n",
    "sales_data[\"Area\"]= sales_data[\"Purchase Address\"].apply(lambda x: f\"{get_city(x)} ({get_state(x)})\")\n"
   ]
  },
  {
   "cell_type": "code",
   "execution_count": 12,
   "id": "82fb322d",
   "metadata": {},
   "outputs": [],
   "source": [
    "# Get time and date for analysis \n",
    "sales_data[\"Hour\"]= sales_data[\"Order Date\"].dt.hour\n",
    "sales_data[\"Time\"]= sales_data[\"Order Date\"].dt.time"
   ]
  },
  {
   "cell_type": "code",
   "execution_count": 13,
   "id": "ba2335e7",
   "metadata": {},
   "outputs": [],
   "source": [
    "# Getting total cost for analysis \n",
    "sales_data[\"Total Sales\"]=sales_data[\"Price Each\"]*sales_data[\"Quantity Ordered\"]"
   ]
  },
  {
   "cell_type": "markdown",
   "id": "da16e584",
   "metadata": {},
   "source": [
    "# Buisness Questions "
   ]
  },
  {
   "cell_type": "markdown",
   "id": "ce856d86",
   "metadata": {},
   "source": [
    " Q1. What is the best month for sales ?\n"
   ]
  },
  {
   "cell_type": "code",
   "execution_count": 15,
   "id": "458df878",
   "metadata": {},
   "outputs": [],
   "source": [
    "# getting month name\n",
    "sales_data['Month'] = sales_data['Month'].apply(lambda x: calendar.month_abbr[x])"
   ]
  },
  {
   "cell_type": "code",
   "execution_count": 16,
   "id": "92cfe2cb",
   "metadata": {},
   "outputs": [
    {
     "data": {
      "text/html": [
       "<div>\n",
       "<style scoped>\n",
       "    .dataframe tbody tr th:only-of-type {\n",
       "        vertical-align: middle;\n",
       "    }\n",
       "\n",
       "    .dataframe tbody tr th {\n",
       "        vertical-align: top;\n",
       "    }\n",
       "\n",
       "    .dataframe thead th {\n",
       "        text-align: right;\n",
       "    }\n",
       "</style>\n",
       "<table border=\"1\" class=\"dataframe\">\n",
       "  <thead>\n",
       "    <tr style=\"text-align: right;\">\n",
       "      <th></th>\n",
       "      <th>Order ID</th>\n",
       "      <th>Product</th>\n",
       "      <th>Quantity Ordered</th>\n",
       "      <th>Price Each</th>\n",
       "      <th>Order Date</th>\n",
       "      <th>Purchase Address</th>\n",
       "      <th>Month</th>\n",
       "      <th>Area</th>\n",
       "      <th>Hour</th>\n",
       "      <th>Time</th>\n",
       "      <th>Total Sales</th>\n",
       "    </tr>\n",
       "  </thead>\n",
       "  <tbody>\n",
       "    <tr>\n",
       "      <th>0</th>\n",
       "      <td>176558</td>\n",
       "      <td>USB-C Charging Cable</td>\n",
       "      <td>2</td>\n",
       "      <td>11.95</td>\n",
       "      <td>2019-04-19 08:46:00</td>\n",
       "      <td>917 1st St, Dallas, TX 75001</td>\n",
       "      <td>Apr</td>\n",
       "      <td>Dallas (TX)</td>\n",
       "      <td>8</td>\n",
       "      <td>08:46:00</td>\n",
       "      <td>23.90</td>\n",
       "    </tr>\n",
       "    <tr>\n",
       "      <th>2</th>\n",
       "      <td>176559</td>\n",
       "      <td>Bose SoundSport Headphones</td>\n",
       "      <td>1</td>\n",
       "      <td>99.99</td>\n",
       "      <td>2019-04-07 22:30:00</td>\n",
       "      <td>682 Chestnut St, Boston, MA 02215</td>\n",
       "      <td>Apr</td>\n",
       "      <td>Boston (MA)</td>\n",
       "      <td>22</td>\n",
       "      <td>22:30:00</td>\n",
       "      <td>99.99</td>\n",
       "    </tr>\n",
       "    <tr>\n",
       "      <th>3</th>\n",
       "      <td>176560</td>\n",
       "      <td>Google Phone</td>\n",
       "      <td>1</td>\n",
       "      <td>600.00</td>\n",
       "      <td>2019-04-12 14:38:00</td>\n",
       "      <td>669 Spruce St, Los Angeles, CA 90001</td>\n",
       "      <td>Apr</td>\n",
       "      <td>Los Angeles (CA)</td>\n",
       "      <td>14</td>\n",
       "      <td>14:38:00</td>\n",
       "      <td>600.00</td>\n",
       "    </tr>\n",
       "    <tr>\n",
       "      <th>4</th>\n",
       "      <td>176560</td>\n",
       "      <td>Wired Headphones</td>\n",
       "      <td>1</td>\n",
       "      <td>11.99</td>\n",
       "      <td>2019-04-12 14:38:00</td>\n",
       "      <td>669 Spruce St, Los Angeles, CA 90001</td>\n",
       "      <td>Apr</td>\n",
       "      <td>Los Angeles (CA)</td>\n",
       "      <td>14</td>\n",
       "      <td>14:38:00</td>\n",
       "      <td>11.99</td>\n",
       "    </tr>\n",
       "    <tr>\n",
       "      <th>5</th>\n",
       "      <td>176561</td>\n",
       "      <td>Wired Headphones</td>\n",
       "      <td>1</td>\n",
       "      <td>11.99</td>\n",
       "      <td>2019-04-30 09:27:00</td>\n",
       "      <td>333 8th St, Los Angeles, CA 90001</td>\n",
       "      <td>Apr</td>\n",
       "      <td>Los Angeles (CA)</td>\n",
       "      <td>9</td>\n",
       "      <td>09:27:00</td>\n",
       "      <td>11.99</td>\n",
       "    </tr>\n",
       "  </tbody>\n",
       "</table>\n",
       "</div>"
      ],
      "text/plain": [
       "  Order ID                     Product  Quantity Ordered  Price Each  \\\n",
       "0   176558        USB-C Charging Cable                 2       11.95   \n",
       "2   176559  Bose SoundSport Headphones                 1       99.99   \n",
       "3   176560                Google Phone                 1      600.00   \n",
       "4   176560            Wired Headphones                 1       11.99   \n",
       "5   176561            Wired Headphones                 1       11.99   \n",
       "\n",
       "           Order Date                      Purchase Address Month  \\\n",
       "0 2019-04-19 08:46:00          917 1st St, Dallas, TX 75001   Apr   \n",
       "2 2019-04-07 22:30:00     682 Chestnut St, Boston, MA 02215   Apr   \n",
       "3 2019-04-12 14:38:00  669 Spruce St, Los Angeles, CA 90001   Apr   \n",
       "4 2019-04-12 14:38:00  669 Spruce St, Los Angeles, CA 90001   Apr   \n",
       "5 2019-04-30 09:27:00     333 8th St, Los Angeles, CA 90001   Apr   \n",
       "\n",
       "                Area  Hour      Time  Total Sales  \n",
       "0        Dallas (TX)     8  08:46:00        23.90  \n",
       "2        Boston (MA)    22  22:30:00        99.99  \n",
       "3   Los Angeles (CA)    14  14:38:00       600.00  \n",
       "4   Los Angeles (CA)    14  14:38:00        11.99  \n",
       "5   Los Angeles (CA)     9  09:27:00        11.99  "
      ]
     },
     "execution_count": 16,
     "metadata": {},
     "output_type": "execute_result"
    }
   ],
   "source": [
    "sales_data.head(5)"
   ]
  },
  {
   "cell_type": "code",
   "execution_count": 17,
   "id": "49d6a78e",
   "metadata": {},
   "outputs": [
    {
     "data": {
      "text/html": [
       "<div>\n",
       "<style scoped>\n",
       "    .dataframe tbody tr th:only-of-type {\n",
       "        vertical-align: middle;\n",
       "    }\n",
       "\n",
       "    .dataframe tbody tr th {\n",
       "        vertical-align: top;\n",
       "    }\n",
       "\n",
       "    .dataframe thead th {\n",
       "        text-align: right;\n",
       "    }\n",
       "</style>\n",
       "<table border=\"1\" class=\"dataframe\">\n",
       "  <thead>\n",
       "    <tr style=\"text-align: right;\">\n",
       "      <th></th>\n",
       "      <th>Quantity Ordered</th>\n",
       "      <th>Price Each</th>\n",
       "      <th>Hour</th>\n",
       "      <th>Total Sales</th>\n",
       "    </tr>\n",
       "    <tr>\n",
       "      <th>Month</th>\n",
       "      <th></th>\n",
       "      <th></th>\n",
       "      <th></th>\n",
       "      <th></th>\n",
       "    </tr>\n",
       "  </thead>\n",
       "  <tbody>\n",
       "    <tr>\n",
       "      <th>Apr</th>\n",
       "      <td>20558</td>\n",
       "      <td>3367671.02</td>\n",
       "      <td>262259</td>\n",
       "      <td>3390670.24</td>\n",
       "    </tr>\n",
       "    <tr>\n",
       "      <th>Aug</th>\n",
       "      <td>13448</td>\n",
       "      <td>2230345.42</td>\n",
       "      <td>172289</td>\n",
       "      <td>2244467.88</td>\n",
       "    </tr>\n",
       "    <tr>\n",
       "      <th>Dec</th>\n",
       "      <td>28114</td>\n",
       "      <td>4588415.41</td>\n",
       "      <td>359978</td>\n",
       "      <td>4613443.34</td>\n",
       "    </tr>\n",
       "    <tr>\n",
       "      <th>Feb</th>\n",
       "      <td>13449</td>\n",
       "      <td>2188884.72</td>\n",
       "      <td>172669</td>\n",
       "      <td>2202022.42</td>\n",
       "    </tr>\n",
       "    <tr>\n",
       "      <th>Jan</th>\n",
       "      <td>10903</td>\n",
       "      <td>1811768.38</td>\n",
       "      <td>139485</td>\n",
       "      <td>1822256.73</td>\n",
       "    </tr>\n",
       "    <tr>\n",
       "      <th>Jul</th>\n",
       "      <td>16072</td>\n",
       "      <td>2632539.56</td>\n",
       "      <td>206169</td>\n",
       "      <td>2647775.76</td>\n",
       "    </tr>\n",
       "    <tr>\n",
       "      <th>Jun</th>\n",
       "      <td>15253</td>\n",
       "      <td>2562025.61</td>\n",
       "      <td>195528</td>\n",
       "      <td>2577802.26</td>\n",
       "    </tr>\n",
       "    <tr>\n",
       "      <th>Mar</th>\n",
       "      <td>17005</td>\n",
       "      <td>2791207.83</td>\n",
       "      <td>218969</td>\n",
       "      <td>2807100.38</td>\n",
       "    </tr>\n",
       "    <tr>\n",
       "      <th>May</th>\n",
       "      <td>18667</td>\n",
       "      <td>3135125.13</td>\n",
       "      <td>238780</td>\n",
       "      <td>3152606.75</td>\n",
       "    </tr>\n",
       "    <tr>\n",
       "      <th>Nov</th>\n",
       "      <td>19798</td>\n",
       "      <td>3180600.68</td>\n",
       "      <td>254865</td>\n",
       "      <td>3199603.20</td>\n",
       "    </tr>\n",
       "    <tr>\n",
       "      <th>Oct</th>\n",
       "      <td>22703</td>\n",
       "      <td>3715554.83</td>\n",
       "      <td>290650</td>\n",
       "      <td>3736726.88</td>\n",
       "    </tr>\n",
       "    <tr>\n",
       "      <th>Sep</th>\n",
       "      <td>13109</td>\n",
       "      <td>2084992.09</td>\n",
       "      <td>168513</td>\n",
       "      <td>2097560.13</td>\n",
       "    </tr>\n",
       "  </tbody>\n",
       "</table>\n",
       "</div>"
      ],
      "text/plain": [
       "       Quantity Ordered  Price Each    Hour  Total Sales\n",
       "Month                                                   \n",
       "Apr               20558  3367671.02  262259   3390670.24\n",
       "Aug               13448  2230345.42  172289   2244467.88\n",
       "Dec               28114  4588415.41  359978   4613443.34\n",
       "Feb               13449  2188884.72  172669   2202022.42\n",
       "Jan               10903  1811768.38  139485   1822256.73\n",
       "Jul               16072  2632539.56  206169   2647775.76\n",
       "Jun               15253  2562025.61  195528   2577802.26\n",
       "Mar               17005  2791207.83  218969   2807100.38\n",
       "May               18667  3135125.13  238780   3152606.75\n",
       "Nov               19798  3180600.68  254865   3199603.20\n",
       "Oct               22703  3715554.83  290650   3736726.88\n",
       "Sep               13109  2084992.09  168513   2097560.13"
      ]
     },
     "execution_count": 17,
     "metadata": {},
     "output_type": "execute_result"
    }
   ],
   "source": [
    "# August seems to have the highest sales \n",
    "sum_sales = sales_data.groupby(by=\"Month\").sum()\n",
    "sum_sales"
   ]
  },
  {
   "cell_type": "code",
   "execution_count": null,
   "id": "c61e4afa",
   "metadata": {},
   "outputs": [],
   "source": []
  },
  {
   "cell_type": "code",
   "execution_count": 29,
   "id": "fd41cb05",
   "metadata": {},
   "outputs": [
    {
     "data": {
      "text/plain": [
       "Text(0, 0.5, 'Total Sales in US($)')"
      ]
     },
     "execution_count": 29,
     "metadata": {},
     "output_type": "execute_result"
    },
    {
     "data": {
      "image/png": "[encoded data removed]",
      "text/plain": [
       "<Figure size 576x432 with 1 Axes>"
      ]
     },
     "metadata": {
      "needs_background": "light"
     },
     "output_type": "display_data"
    }
   ],
   "source": [
    "# Figure out the items that are sold the most  \n",
    "keys = [month for month, df in sales_data.groupby(['Month'])]\n",
    "plt.figure(figsize=(8,6))\n",
    "plt.bar(keys, sales_data.groupby(['Month']).sum()['Total Sales'], color=\"Green\")\n",
    "plt.xlabel(\"Months\")\n",
    "plt.ylabel(\"Total Sales in US($)\") "
   ]
  },
  {
   "cell_type": "markdown",
   "id": "647bc0db",
   "metadata": {},
   "source": [
    "Q.2 What cities had the highest sales?"
   ]
  },
  {
   "cell_type": "code",
   "execution_count": 19,
   "id": "d87568ea",
   "metadata": {},
   "outputs": [
    {
     "data": {
      "text/html": [
       "<div>\n",
       "<style scoped>\n",
       "    .dataframe tbody tr th:only-of-type {\n",
       "        vertical-align: middle;\n",
       "    }\n",
       "\n",
       "    .dataframe tbody tr th {\n",
       "        vertical-align: top;\n",
       "    }\n",
       "\n",
       "    .dataframe thead th {\n",
       "        text-align: right;\n",
       "    }\n",
       "</style>\n",
       "<table border=\"1\" class=\"dataframe\">\n",
       "  <thead>\n",
       "    <tr style=\"text-align: right;\">\n",
       "      <th></th>\n",
       "      <th>Quantity Ordered</th>\n",
       "      <th>Price Each</th>\n",
       "      <th>Hour</th>\n",
       "      <th>Total Sales</th>\n",
       "    </tr>\n",
       "    <tr>\n",
       "      <th>Area</th>\n",
       "      <th></th>\n",
       "      <th></th>\n",
       "      <th></th>\n",
       "      <th></th>\n",
       "    </tr>\n",
       "  </thead>\n",
       "  <tbody>\n",
       "    <tr>\n",
       "      <th>Atlanta (GA)</th>\n",
       "      <td>16602</td>\n",
       "      <td>2779908.20</td>\n",
       "      <td>214264</td>\n",
       "      <td>2795498.58</td>\n",
       "    </tr>\n",
       "    <tr>\n",
       "      <th>Austin (TX)</th>\n",
       "      <td>11153</td>\n",
       "      <td>1809873.61</td>\n",
       "      <td>141946</td>\n",
       "      <td>1819581.75</td>\n",
       "    </tr>\n",
       "    <tr>\n",
       "      <th>Boston (MA)</th>\n",
       "      <td>22528</td>\n",
       "      <td>3637409.77</td>\n",
       "      <td>288225</td>\n",
       "      <td>3661642.01</td>\n",
       "    </tr>\n",
       "    <tr>\n",
       "      <th>Dallas (TX)</th>\n",
       "      <td>16730</td>\n",
       "      <td>2752627.82</td>\n",
       "      <td>214390</td>\n",
       "      <td>2767975.40</td>\n",
       "    </tr>\n",
       "    <tr>\n",
       "      <th>Los Angeles (CA)</th>\n",
       "      <td>33289</td>\n",
       "      <td>5421435.23</td>\n",
       "      <td>427444</td>\n",
       "      <td>5452570.80</td>\n",
       "    </tr>\n",
       "    <tr>\n",
       "      <th>New York City (NY)</th>\n",
       "      <td>27932</td>\n",
       "      <td>4635370.83</td>\n",
       "      <td>357696</td>\n",
       "      <td>4664317.43</td>\n",
       "    </tr>\n",
       "    <tr>\n",
       "      <th>Portland (ME)</th>\n",
       "      <td>2750</td>\n",
       "      <td>447189.25</td>\n",
       "      <td>35211</td>\n",
       "      <td>449758.27</td>\n",
       "    </tr>\n",
       "    <tr>\n",
       "      <th>Portland (OR)</th>\n",
       "      <td>11303</td>\n",
       "      <td>1860558.22</td>\n",
       "      <td>144421</td>\n",
       "      <td>1870732.34</td>\n",
       "    </tr>\n",
       "    <tr>\n",
       "      <th>San Francisco (CA)</th>\n",
       "      <td>50239</td>\n",
       "      <td>8211461.74</td>\n",
       "      <td>643265</td>\n",
       "      <td>8262203.91</td>\n",
       "    </tr>\n",
       "    <tr>\n",
       "      <th>Seattle (WA)</th>\n",
       "      <td>16553</td>\n",
       "      <td>2733296.01</td>\n",
       "      <td>213292</td>\n",
       "      <td>2747755.48</td>\n",
       "    </tr>\n",
       "  </tbody>\n",
       "</table>\n",
       "</div>"
      ],
      "text/plain": [
       "                     Quantity Ordered  Price Each    Hour  Total Sales\n",
       "Area                                                                  \n",
       " Atlanta (GA)                   16602  2779908.20  214264   2795498.58\n",
       " Austin (TX)                    11153  1809873.61  141946   1819581.75\n",
       " Boston (MA)                    22528  3637409.77  288225   3661642.01\n",
       " Dallas (TX)                    16730  2752627.82  214390   2767975.40\n",
       " Los Angeles (CA)               33289  5421435.23  427444   5452570.80\n",
       " New York City (NY)             27932  4635370.83  357696   4664317.43\n",
       " Portland (ME)                   2750   447189.25   35211    449758.27\n",
       " Portland (OR)                  11303  1860558.22  144421   1870732.34\n",
       " San Francisco (CA)             50239  8211461.74  643265   8262203.91\n",
       " Seattle (WA)                   16553  2733296.01  213292   2747755.48"
      ]
     },
     "execution_count": 19,
     "metadata": {},
     "output_type": "execute_result"
    }
   ],
   "source": [
    "# The state with the highest sales is San Fransisco\n",
    "sum_sales = sales_data.groupby(by=\"Area\").sum()\n",
    "sum_sales"
   ]
  },
  {
   "cell_type": "code",
   "execution_count": 20,
   "id": "efe763a5",
   "metadata": {},
   "outputs": [
    {
     "data": {
      "image/png": "[encoded data removed]",
      "text/plain": [
       "<Figure size 576x432 with 1 Axes>"
      ]
     },
     "metadata": {
      "needs_background": "light"
     },
     "output_type": "display_data"
    }
   ],
   "source": [
    "# Plot \n",
    "keys = [city for city, df in sales_data.groupby(['Area'])]\n",
    "plt.figure(figsize=(8,6))\n",
    "plt.bar(keys, sales_data.groupby(['Area']).sum()['Total Sales'], color =\"Green\")\n",
    "plt.ylabel('Sales in USD ($)')\n",
    "plt.xlabel('State')\n",
    "plt.xticks(keys, rotation='vertical', size=8)\n",
    "plt.show()"
   ]
  },
  {
   "cell_type": "markdown",
   "id": "d69ab775",
   "metadata": {},
   "source": [
    "# Time to display advertisement to maximise our customers"
   ]
  },
  {
   "cell_type": "code",
   "execution_count": 21,
   "id": "557507b0",
   "metadata": {},
   "outputs": [
    {
     "data": {
      "text/html": [
       "<div>\n",
       "<style scoped>\n",
       "    .dataframe tbody tr th:only-of-type {\n",
       "        vertical-align: middle;\n",
       "    }\n",
       "\n",
       "    .dataframe tbody tr th {\n",
       "        vertical-align: top;\n",
       "    }\n",
       "\n",
       "    .dataframe thead th {\n",
       "        text-align: right;\n",
       "    }\n",
       "</style>\n",
       "<table border=\"1\" class=\"dataframe\">\n",
       "  <thead>\n",
       "    <tr style=\"text-align: right;\">\n",
       "      <th></th>\n",
       "      <th>Order ID</th>\n",
       "      <th>Product</th>\n",
       "      <th>Quantity Ordered</th>\n",
       "      <th>Price Each</th>\n",
       "      <th>Order Date</th>\n",
       "      <th>Purchase Address</th>\n",
       "      <th>Month</th>\n",
       "      <th>Area</th>\n",
       "      <th>Time</th>\n",
       "      <th>Total Sales</th>\n",
       "    </tr>\n",
       "    <tr>\n",
       "      <th>Hour</th>\n",
       "      <th></th>\n",
       "      <th></th>\n",
       "      <th></th>\n",
       "      <th></th>\n",
       "      <th></th>\n",
       "      <th></th>\n",
       "      <th></th>\n",
       "      <th></th>\n",
       "      <th></th>\n",
       "      <th></th>\n",
       "    </tr>\n",
       "  </thead>\n",
       "  <tbody>\n",
       "    <tr>\n",
       "      <th>0</th>\n",
       "      <td>3910</td>\n",
       "      <td>3910</td>\n",
       "      <td>3910</td>\n",
       "      <td>3910</td>\n",
       "      <td>3910</td>\n",
       "      <td>3910</td>\n",
       "      <td>3910</td>\n",
       "      <td>3910</td>\n",
       "      <td>3910</td>\n",
       "      <td>3910</td>\n",
       "    </tr>\n",
       "    <tr>\n",
       "      <th>1</th>\n",
       "      <td>2350</td>\n",
       "      <td>2350</td>\n",
       "      <td>2350</td>\n",
       "      <td>2350</td>\n",
       "      <td>2350</td>\n",
       "      <td>2350</td>\n",
       "      <td>2350</td>\n",
       "      <td>2350</td>\n",
       "      <td>2350</td>\n",
       "      <td>2350</td>\n",
       "    </tr>\n",
       "    <tr>\n",
       "      <th>2</th>\n",
       "      <td>1243</td>\n",
       "      <td>1243</td>\n",
       "      <td>1243</td>\n",
       "      <td>1243</td>\n",
       "      <td>1243</td>\n",
       "      <td>1243</td>\n",
       "      <td>1243</td>\n",
       "      <td>1243</td>\n",
       "      <td>1243</td>\n",
       "      <td>1243</td>\n",
       "    </tr>\n",
       "  </tbody>\n",
       "</table>\n",
       "</div>"
      ],
      "text/plain": [
       "      Order ID  Product  Quantity Ordered  Price Each  Order Date  \\\n",
       "Hour                                                                \n",
       "0         3910     3910              3910        3910        3910   \n",
       "1         2350     2350              2350        2350        2350   \n",
       "2         1243     1243              1243        1243        1243   \n",
       "\n",
       "      Purchase Address  Month  Area  Time  Total Sales  \n",
       "Hour                                                    \n",
       "0                 3910   3910  3910  3910         3910  \n",
       "1                 2350   2350  2350  2350         2350  \n",
       "2                 1243   1243  1243  1243         1243  "
      ]
     },
     "execution_count": 21,
     "metadata": {},
     "output_type": "execute_result"
    }
   ],
   "source": [
    "# Counting the distinct hour and sales \n",
    "sales_data.groupby(['Hour']).count().head(3)"
   ]
  },
  {
   "cell_type": "code",
   "execution_count": 22,
   "id": "349d8115",
   "metadata": {},
   "outputs": [],
   "source": [
    "# Creating a variable count to understand the number of orders being made \n",
    "sales_data['Count'] = 1"
   ]
  },
  {
   "cell_type": "code",
   "execution_count": 23,
   "id": "1a75f464",
   "metadata": {},
   "outputs": [
    {
     "data": {
      "image/png": "[encoded data removed]",
      "text/plain": [
       "<Figure size 576x432 with 1 Axes>"
      ]
     },
     "metadata": {
      "needs_background": "light"
     },
     "output_type": "display_data"
    }
   ],
   "source": [
    "keys = [pair for pair, df in sales_data.groupby(['Hour'])]\n",
    "plt.figure(figsize=(8,6))\n",
    "plt.plot(keys, sales_data.groupby([\"Hour\"]).count()[\"Count\"])\n",
    "plt.xticks(keys)\n",
    "plt.grid()\n",
    "plt.ylabel('Total Orders')\n",
    "plt.xlabel('Time')\n",
    "plt.show()\n",
    "# Seems like 11 am and 7 pm happens to be a good time to sale "
   ]
  },
  {
   "cell_type": "markdown",
   "id": "6f5ffaaa",
   "metadata": {},
   "source": [
    "## What Products are mostly sold together ?"
   ]
  },
  {
   "cell_type": "code",
   "execution_count": 24,
   "id": "17b35c1d",
   "metadata": {},
   "outputs": [
    {
     "data": {
      "text/plain": [
       "160873    5\n",
       "178158    4\n",
       "277875    4\n",
       "196615    4\n",
       "304802    4\n",
       "         ..\n",
       "158177    1\n",
       "158178    1\n",
       "158179    1\n",
       "158180    1\n",
       "259357    1\n",
       "Name: Order ID, Length: 178437, dtype: int64"
      ]
     },
     "execution_count": 24,
     "metadata": {},
     "output_type": "execute_result"
    }
   ],
   "source": [
    "sales_data[\"Order ID\"].value_counts()"
   ]
  },
  {
   "cell_type": "code",
   "execution_count": 28,
   "id": "ae051053",
   "metadata": {},
   "outputs": [
    {
     "data": {
      "text/plain": [
       "False    178437\n",
       "True       7513\n",
       "Name: Order ID, dtype: int64"
      ]
     },
     "execution_count": 28,
     "metadata": {},
     "output_type": "execute_result"
    }
   ],
   "source": [
    "sales_data[\"Order ID\"].duplicated().value_counts()"
   ]
  },
  {
   "cell_type": "code",
   "execution_count": null,
   "id": "9d82f6c3",
   "metadata": {},
   "outputs": [],
   "source": []
  },
  {
   "cell_type": "code",
   "execution_count": null,
   "id": "aa8b0503",
   "metadata": {},
   "outputs": [],
   "source": []
  }
 ],
 "metadata": {
  "kernelspec": {
   "display_name": "Python 3 (ipykernel)",
   "language": "python",
   "name": "python3"
  },
  "language_info": {
   "codemirror_mode": {
    "name": "ipython",
    "version": 3
   },
   "file_extension": ".py",
   "mimetype": "text/x-python",
   "name": "python",
   "nbconvert_exporter": "python",
   "pygments_lexer": "ipython3",
   "version": "3.9.12"
  }
 },
 "nbformat": 4,
 "nbformat_minor": 5
}
